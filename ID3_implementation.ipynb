{
 "cells": [
  {
   "cell_type": "code",
   "execution_count": 62,
   "metadata": {},
   "outputs": [],
   "source": [
    "from sklearn.tree import DecisionTreeClassifier\n",
    "import pandas as pd \n",
    "from sklearn.metrics import accuracy_score\n",
    "import numpy as np  \n",
    "from sklearn import preprocessing"
   ]
  },
  {
   "cell_type": "code",
   "execution_count": 63,
   "metadata": {},
   "outputs": [],
   "source": [
    "attributes=['buying', 'maint', 'doors', 'persons', 'lug_boot', 'safety', 'class']\n",
    "\n",
    "df = pd.read_csv('ds/car_evaluation.csv')\n",
    "X = pd.get_dummies(df[attributes[0:6]])\n",
    "le = preprocessing.LabelEncoder()\n",
    "le.fit(df[attributes[6]])\n",
    "Y = le.transform(df[attributes[6]])\n",
    "\n",
    "#Y = pd.get_dummies(df[attributes[6]])\n"
   ]
  },
  {
   "cell_type": "code",
   "execution_count": 64,
   "metadata": {},
   "outputs": [
    {
     "name": "stdout",
     "output_type": "stream",
     "text": [
      "[ True  True  True ...  True  True  True]\n",
      "split done\n"
     ]
    }
   ],
   "source": [
    "msk = np.random.rand(len(df)) < 0.8 #80 percent split\n",
    "print(msk)\n",
    "X_train = X[msk]\n",
    "Y_train = Y[msk]\n",
    "Y_test = Y[~msk]\n",
    "X_test = X[~msk]\n",
    "print('split done')\n"
   ]
  },
  {
   "cell_type": "code",
   "execution_count": 65,
   "metadata": {},
   "outputs": [],
   "source": [
    "clf = DecisionTreeClassifier(random_state=0)\n",
    "clf = clf.fit(X_train,Y_train)\n"
   ]
  },
  {
   "cell_type": "code",
   "execution_count": 66,
   "metadata": {},
   "outputs": [],
   "source": [
    "Y_pred = clf.predict(X_train)\n"
   ]
  },
  {
   "cell_type": "code",
   "execution_count": 67,
   "metadata": {},
   "outputs": [
    {
     "name": "stdout",
     "output_type": "stream",
     "text": [
      "train accuracy:\n",
      "1.0\n",
      "test accuracy:\n",
      "0.9696132596685083\n"
     ]
    }
   ],
   "source": [
    "print(\"train accuracy:\")\n",
    "print(accuracy_score(Y_train, Y_pred))\n",
    "\n",
    "Y_pred = clf.predict(X_test)\n",
    "\n",
    "print(\"test accuracy:\")\n",
    "print(accuracy_score(Y_test, Y_pred))"
   ]
  },
  {
   "cell_type": "code",
   "execution_count": 68,
   "metadata": {},
   "outputs": [],
   "source": [
    "from id3 import Id3Estimator\n",
    "from id3 import export_graphviz\n",
    "\n"
   ]
  },
  {
   "cell_type": "code",
   "execution_count": 69,
   "metadata": {},
   "outputs": [
    {
     "data": {
      "text/plain": [
       "Id3Estimator(gain_ratio=False, is_repeating=False, max_depth=None,\n",
       "             min_entropy_decrease=0.0, min_samples_split=2, prune=False)"
      ]
     },
     "execution_count": 69,
     "metadata": {},
     "output_type": "execute_result"
    }
   ],
   "source": [
    "estimator.fit(X_train,Y_train)"
   ]
  },
  {
   "cell_type": "code",
   "execution_count": 70,
   "metadata": {},
   "outputs": [],
   "source": [
    "Y_pred2 = estimator.predict(X_train)"
   ]
  },
  {
   "cell_type": "code",
   "execution_count": 71,
   "metadata": {},
   "outputs": [
    {
     "name": "stdout",
     "output_type": "stream",
     "text": [
      "train accuracy:\n",
      "1.0\n",
      "test accuracy:\n",
      "0.9696132596685083\n"
     ]
    }
   ],
   "source": [
    "print(\"train accuracy:\")\n",
    "print(accuracy_score(Y_train, Y_pred2))\n",
    "\n",
    "Y_pred2 = clf.predict(X_test)\n",
    "\n",
    "print(\"test accuracy:\")\n",
    "print(accuracy_score(Y_test, Y_pred2))"
   ]
  },
  {
   "cell_type": "code",
   "execution_count": null,
   "metadata": {},
   "outputs": [],
   "source": []
  },
  {
   "cell_type": "code",
   "execution_count": null,
   "metadata": {},
   "outputs": [],
   "source": []
  },
  {
   "cell_type": "code",
   "execution_count": null,
   "metadata": {},
   "outputs": [],
   "source": []
  }
 ],
 "metadata": {
  "kernelspec": {
   "display_name": "Python 3",
   "language": "python",
   "name": "python3"
  },
  "language_info": {
   "codemirror_mode": {
    "name": "ipython",
    "version": 3
   },
   "file_extension": ".py",
   "mimetype": "text/x-python",
   "name": "python",
   "nbconvert_exporter": "python",
   "pygments_lexer": "ipython3",
   "version": "3.6.9"
  }
 },
 "nbformat": 4,
 "nbformat_minor": 2
}
